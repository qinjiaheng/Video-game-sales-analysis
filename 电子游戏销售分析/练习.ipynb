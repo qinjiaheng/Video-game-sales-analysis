{
 "cells": [
  {
   "cell_type": "code",
   "execution_count": 46,
   "id": "interpreted-barbados",
   "metadata": {},
   "outputs": [],
   "source": [
    "import pandas as pd\n",
    "import numpy as np\n",
    "from pyecharts import options as opts\n",
    "from pyecharts.charts import Pie,Line,Bar"
   ]
  },
  {
   "cell_type": "code",
   "execution_count": 47,
   "id": "arabic-question",
   "metadata": {},
   "outputs": [
    {
     "name": "stdout",
     "output_type": "stream",
     "text": [
      "<class 'pandas.core.frame.DataFrame'>\n",
      "RangeIndex: 16598 entries, 0 to 16597\n",
      "Data columns (total 10 columns):\n",
      " #   Column        Non-Null Count  Dtype  \n",
      "---  ------        --------------  -----  \n",
      " 0   Name          16598 non-null  object \n",
      " 1   Platform      16598 non-null  object \n",
      " 2   Year          16327 non-null  object \n",
      " 3   Genre         16598 non-null  object \n",
      " 4   Publisher     16540 non-null  object \n",
      " 5   NA_Sales      16598 non-null  float64\n",
      " 6   EU_Sales      16598 non-null  float64\n",
      " 7   JP_Sales      16598 non-null  float64\n",
      " 8   Other_Sales   16598 non-null  float64\n",
      " 9   Global_Sales  16596 non-null  float64\n",
      "dtypes: float64(5), object(5)\n",
      "memory usage: 1.3+ MB\n"
     ]
    }
   ],
   "source": [
    "data = pd.read_csv('vgsales.csv')\n",
    "data.info()"
   ]
  },
  {
   "cell_type": "code",
   "execution_count": 48,
   "id": "multiple-kidney",
   "metadata": {},
   "outputs": [
    {
     "data": {
      "text/html": [
       "<div>\n",
       "<style scoped>\n",
       "    .dataframe tbody tr th:only-of-type {\n",
       "        vertical-align: middle;\n",
       "    }\n",
       "\n",
       "    .dataframe tbody tr th {\n",
       "        vertical-align: top;\n",
       "    }\n",
       "\n",
       "    .dataframe thead th {\n",
       "        text-align: right;\n",
       "    }\n",
       "</style>\n",
       "<table border=\"1\" class=\"dataframe\">\n",
       "  <thead>\n",
       "    <tr style=\"text-align: right;\">\n",
       "      <th></th>\n",
       "      <th>NA_Sales</th>\n",
       "      <th>EU_Sales</th>\n",
       "      <th>JP_Sales</th>\n",
       "      <th>Other_Sales</th>\n",
       "      <th>Global_Sales</th>\n",
       "    </tr>\n",
       "  </thead>\n",
       "  <tbody>\n",
       "    <tr>\n",
       "      <th>count</th>\n",
       "      <td>16598.000000</td>\n",
       "      <td>16598.000000</td>\n",
       "      <td>16598.000000</td>\n",
       "      <td>16598.000000</td>\n",
       "      <td>16596.000000</td>\n",
       "    </tr>\n",
       "    <tr>\n",
       "      <th>mean</th>\n",
       "      <td>0.264667</td>\n",
       "      <td>0.146659</td>\n",
       "      <td>0.077774</td>\n",
       "      <td>0.048070</td>\n",
       "      <td>0.537498</td>\n",
       "    </tr>\n",
       "    <tr>\n",
       "      <th>std</th>\n",
       "      <td>0.816683</td>\n",
       "      <td>0.505350</td>\n",
       "      <td>0.309292</td>\n",
       "      <td>0.188588</td>\n",
       "      <td>1.555113</td>\n",
       "    </tr>\n",
       "    <tr>\n",
       "      <th>min</th>\n",
       "      <td>0.000000</td>\n",
       "      <td>0.000000</td>\n",
       "      <td>0.000000</td>\n",
       "      <td>0.000000</td>\n",
       "      <td>0.010000</td>\n",
       "    </tr>\n",
       "    <tr>\n",
       "      <th>25%</th>\n",
       "      <td>0.000000</td>\n",
       "      <td>0.000000</td>\n",
       "      <td>0.000000</td>\n",
       "      <td>0.000000</td>\n",
       "      <td>0.060000</td>\n",
       "    </tr>\n",
       "    <tr>\n",
       "      <th>50%</th>\n",
       "      <td>0.080000</td>\n",
       "      <td>0.020000</td>\n",
       "      <td>0.000000</td>\n",
       "      <td>0.010000</td>\n",
       "      <td>0.170000</td>\n",
       "    </tr>\n",
       "    <tr>\n",
       "      <th>75%</th>\n",
       "      <td>0.240000</td>\n",
       "      <td>0.110000</td>\n",
       "      <td>0.040000</td>\n",
       "      <td>0.040000</td>\n",
       "      <td>0.470000</td>\n",
       "    </tr>\n",
       "    <tr>\n",
       "      <th>max</th>\n",
       "      <td>41.490000</td>\n",
       "      <td>29.020000</td>\n",
       "      <td>10.220000</td>\n",
       "      <td>10.570000</td>\n",
       "      <td>82.740000</td>\n",
       "    </tr>\n",
       "  </tbody>\n",
       "</table>\n",
       "</div>"
      ],
      "text/plain": [
       "           NA_Sales      EU_Sales      JP_Sales   Other_Sales  Global_Sales\n",
       "count  16598.000000  16598.000000  16598.000000  16598.000000  16596.000000\n",
       "mean       0.264667      0.146659      0.077774      0.048070      0.537498\n",
       "std        0.816683      0.505350      0.309292      0.188588      1.555113\n",
       "min        0.000000      0.000000      0.000000      0.000000      0.010000\n",
       "25%        0.000000      0.000000      0.000000      0.000000      0.060000\n",
       "50%        0.080000      0.020000      0.000000      0.010000      0.170000\n",
       "75%        0.240000      0.110000      0.040000      0.040000      0.470000\n",
       "max       41.490000     29.020000     10.220000     10.570000     82.740000"
      ]
     },
     "execution_count": 48,
     "metadata": {},
     "output_type": "execute_result"
    }
   ],
   "source": [
    "data.describe()"
   ]
  },
  {
   "cell_type": "code",
   "execution_count": 90,
   "id": "upper-recycling",
   "metadata": {},
   "outputs": [],
   "source": [
    "data['Year'].fillna(data['Year'].mode()[0], inplace=True)\n",
    "data['Publisher'].fillna(data['Publisher'].mode()[0], inplace=True)\n",
    "data['Global_Sales'].fillna(data['Global_Sales'].mode()[0], inplace=True)"
   ]
  },
  {
   "cell_type": "code",
   "execution_count": 50,
   "id": "waiting-attack",
   "metadata": {},
   "outputs": [
    {
     "data": {
      "text/plain": [
       "Name            0\n",
       "Platform        0\n",
       "Year            0\n",
       "Genre           0\n",
       "Publisher       0\n",
       "NA_Sales        0\n",
       "EU_Sales        0\n",
       "JP_Sales        0\n",
       "Other_Sales     0\n",
       "Global_Sales    0\n",
       "dtype: int64"
      ]
     },
     "execution_count": 50,
     "metadata": {},
     "output_type": "execute_result"
    }
   ],
   "source": [
    "# data.dropna(axis=0).reset_index(drop=True)\n",
    "data.isnull().sum()"
   ]
  },
  {
   "cell_type": "markdown",
   "id": "removable-appliance",
   "metadata": {},
   "source": [
    "# 电子游戏市场分析"
   ]
  },
  {
   "cell_type": "code",
   "execution_count": 51,
   "id": "beneficial-female",
   "metadata": {},
   "outputs": [],
   "source": [
    "#各个平台发布游戏数量对比\n",
    "data_Platform = data['Platform'].value_counts()\n",
    "# data_Platform.index.tolist()\n",
    "# data_Platform.values.tolist()"
   ]
  },
  {
   "cell_type": "code",
   "execution_count": 52,
   "id": "worse-oxygen",
   "metadata": {},
   "outputs": [],
   "source": [
    "#图\n",
    "c = (\n",
    "    Pie()\n",
    "    .add(\n",
    "        \"平台\",\n",
    "        [list(z) for z in zip(data_Platform.index.tolist(), data_Platform.values.tolist())],\n",
    "        radius=[\"40%\", \"65%\"],center=[\"40%\", \"50%\"]\n",
    "    )\n",
    "    .set_global_opts(\n",
    "        title_opts=opts.TitleOpts(title=\"各个平台发布游戏数量对比\"),\n",
    "        legend_opts=opts.LegendOpts(orient=\"vertical\",pos_left=\"80%\",type_=\"scroll\",\n",
    "    ))\n",
    "    .set_series_opts(label_opts=opts.LabelOpts(formatter=\"{a} {b}: {c} ({d}%)\",))\n",
    "    .render(\"各个平台发布游戏数量对比.html\")\n",
    ")\n"
   ]
  },
  {
   "cell_type": "code",
   "execution_count": 53,
   "id": "willing-denver",
   "metadata": {},
   "outputs": [],
   "source": [
    "#电子游戏的全球销售额趋势\n",
    "year_sales_glo = data.loc[:, ['Year', 'Global_Sales']].groupby(by =  'Year'  ).sum()\n",
    "# year_sales_glo.index.tolist()\n",
    "# year_sales_glo.values.tolist()"
   ]
  },
  {
   "cell_type": "code",
   "execution_count": 54,
   "id": "extraordinary-breathing",
   "metadata": {},
   "outputs": [],
   "source": [
    "#图\n",
    "c = (\n",
    "    Line()\n",
    "    .add_xaxis(year_sales_glo.index.tolist())\n",
    "    .add_yaxis(\"全球销售额\", year_sales_glo.values.tolist(), is_smooth=False)\n",
    "    .set_global_opts(title_opts=opts.TitleOpts(title=\"游戏销售额发展趋势\"))\n",
    "    .set_series_opts(label_opts=opts.LabelOpts(is_show=False))\n",
    "    .render(\"全球游戏销售额发展趋势.html\")\n",
    ")"
   ]
  },
  {
   "cell_type": "code",
   "execution_count": 55,
   "id": "outstanding-brooks",
   "metadata": {},
   "outputs": [],
   "source": [
    "#全球电子游戏销售额发展趋势（按地区）\n",
    "year_sales = data.loc[:, ['Year', 'NA_Sales', 'EU_Sales', 'JP_Sales', 'Other_Sales']].groupby(by =  'Year'  ).sum()\n",
    "NA_Sales = year_sales['NA_Sales'].values.tolist()\n",
    "EU_Sales = year_sales['EU_Sales'].values.tolist()\n",
    "JP_Sales = year_sales['JP_Sales'].values.tolist()\n",
    "Other_Sales = year_sales['Other_Sales'].values.tolist()\n",
    "year_area = year_sales.index.tolist()"
   ]
  },
  {
   "cell_type": "code",
   "execution_count": 56,
   "id": "absolute-chapel",
   "metadata": {},
   "outputs": [],
   "source": [
    "#图\n",
    "c = (\n",
    "    Line()\n",
    "    .add_xaxis(year_area)\n",
    "    .add_yaxis(\"北美销售额\",NA_Sales)\n",
    "    .add_yaxis(\"欧洲销售额\",EU_Sales, is_smooth=False)\n",
    "    .add_yaxis(\"日本销售额\", JP_Sales, is_smooth=False)\n",
    "    .add_yaxis(\"其他地区销售额\",Other_Sales, is_smooth=False)\n",
    "    .set_global_opts(title_opts=opts.TitleOpts(title=\"不同地区的游戏销售额\",subtitle='总销售额（百万美元）'),)\n",
    "    .set_series_opts(label_opts=opts.LabelOpts(is_show=False))\n",
    "    .render(\"不同地区的游戏销售额发展趋势.html\")\n",
    ")"
   ]
  },
  {
   "cell_type": "code",
   "execution_count": 83,
   "id": "constitutional-allen",
   "metadata": {},
   "outputs": [
    {
     "data": {
      "text/plain": [
       "'F:\\\\project\\\\qin\\\\其他\\\\电子游戏销售分析\\\\受欢迎的游戏类型对比.html'"
      ]
     },
     "execution_count": 83,
     "metadata": {},
     "output_type": "execute_result"
    }
   ],
   "source": [
    "from pyecharts.charts import Grid\n",
    "\n",
    "#受欢迎的游戏类型\n",
    "pop_genre_mean = data.groupby('Genre')['Global_Sales'].mean().round(2)\n",
    "pop_genre_sum = data.groupby('Genre')['Global_Sales'].sum().round(2)\n",
    "# pop_genre_mean\n",
    "\n",
    "\n",
    "#图\n",
    "bar = (\n",
    "    Bar()\n",
    "    .add_xaxis(pop_genre_sum.index.tolist())\n",
    "    .add_yaxis(\"不同类型的总销售额\", pop_genre_sum.values.tolist())\n",
    "    .set_global_opts(title_opts=opts.TitleOpts(title=\"受欢迎的游戏类型\"),\n",
    "                    legend_opts = opts.LegendOpts(is_show = False),\n",
    "                    )\n",
    "    .set_series_opts(label_opts=opts.LabelOpts(is_show=False))\n",
    ")\n",
    "\n",
    "bar1 = (\n",
    "    Bar()\n",
    "    .add_xaxis(pop_genre_mean.index.tolist())\n",
    "    .add_yaxis(\"不同类型的平均销售额\", pop_genre_mean.values.tolist())\n",
    "    .set_global_opts(title_opts=opts.TitleOpts(title=\"受欢迎的游戏类型\"),\n",
    "                    legend_opts = opts.LegendOpts(is_show = False),\n",
    "                    xaxis_opts = opts.AxisOpts(is_show = False))\n",
    "    .set_series_opts(label_opts=opts.LabelOpts(is_show=False))\n",
    "\n",
    ")\n",
    "grid = Grid()\n",
    "grid.add(bar, grid_opts=opts.GridOpts(pos_right=\"50%\"))\n",
    "grid.add(bar1, grid_opts=opts.GridOpts(pos_left=\"50%\"))\n",
    "grid.render('受欢迎的游戏类型对比.html')\n",
    "\n"
   ]
  },
  {
   "cell_type": "code",
   "execution_count": 115,
   "id": "narrative-feelings",
   "metadata": {},
   "outputs": [
    {
     "data": {
      "text/plain": [
       "'F:\\\\project\\\\qin\\\\其他\\\\电子游戏销售分析\\\\不同发行平台的销售量对比.html'"
      ]
     },
     "execution_count": 115,
     "metadata": {},
     "output_type": "execute_result"
    }
   ],
   "source": [
    "#不同发行平台的销售量\n",
    "pop_platform_sum = data.groupby(by='Platform')['Global_Sales'].sum().round(2)\n",
    "pop_platform_mean = data.groupby(by='Platform')['Global_Sales'].mean().round(2)\n",
    "pop_platform_count = data.groupby(by='Platform')['Platform'].count().round(2)\n",
    "\n",
    "#图\n",
    "bar = (\n",
    "    Bar(init_opts=opts.InitOpts(width='800px', height='600px'))\n",
    "    .add_xaxis(pop_platform_sum.index.tolist())\n",
    "    .add_yaxis(\"每个戏平台全球范围内总的销售额\", pop_platform_sum.values.tolist())\n",
    "    .set_global_opts(title_opts=opts.TitleOpts(title=\"不同发行平台的销售量\"),\n",
    "                    legend_opts = opts.LegendOpts(is_show = False),\n",
    "                    xaxis_opts = opts.AxisOpts(is_show = False))\n",
    "    .set_series_opts(label_opts=opts.LabelOpts(is_show=False))\n",
    "\n",
    ")\n",
    "\n",
    "bar1 = (\n",
    "    Bar(init_opts=opts.InitOpts(width='800px', height='600px'))\n",
    "    .add_xaxis(pop_platform_mean.index.tolist())\n",
    "    .add_yaxis(\"每个游戏平台全球范围内的平均销售额\", pop_platform_mean.values.tolist())\n",
    "    .set_global_opts(title_opts=opts.TitleOpts(title=\"不同发行平台的销售量\"),\n",
    "                    legend_opts = opts.LegendOpts(is_show = False),\n",
    "                    xaxis_opts = opts.AxisOpts(is_show = False))\n",
    "    .set_series_opts(label_opts=opts.LabelOpts(is_show=False))\n",
    "\n",
    ")\n",
    "\n",
    "bar2 = (\n",
    "    Bar(init_opts=opts.InitOpts(width='800px', height='600px'))\n",
    "    .add_xaxis(pop_platform_count.index.tolist())\n",
    "    .add_yaxis(\"每个平台上发行的游戏数量\", pop_platform_count.values.tolist())\n",
    "    .set_global_opts(\n",
    "        title_opts=opts.TitleOpts(title=\"不同发行平台的销售量\"),\n",
    "        legend_opts = opts.LegendOpts(is_show = False),\n",
    "        xaxis_opts = opts.AxisOpts(is_show = False),\n",
    "    )\n",
    "    .set_series_opts(label_opts=opts.LabelOpts(is_show=False))\n",
    "\n",
    ")\n",
    "grid = Grid()\n",
    "grid.add(bar, grid_opts=opts.GridOpts(pos_right=\"73%\"))\n",
    "grid.add(bar1, grid_opts=opts.GridOpts(pos_left=\"center\"))\n",
    "grid.add(bar2, grid_opts=opts.GridOpts(pos_left=\"73%\"))\n",
    "grid.render('不同发行平台的销售量对比.html')\n"
   ]
  },
  {
   "cell_type": "code",
   "execution_count": null,
   "id": "subjective-soviet",
   "metadata": {},
   "outputs": [],
   "source": []
  }
 ],
 "metadata": {
  "kernelspec": {
   "display_name": "Python 3",
   "language": "python",
   "name": "python3"
  },
  "language_info": {
   "codemirror_mode": {
    "name": "ipython",
    "version": 3
   },
   "file_extension": ".py",
   "mimetype": "text/x-python",
   "name": "python",
   "nbconvert_exporter": "python",
   "pygments_lexer": "ipython3",
   "version": "3.7.7"
  }
 },
 "nbformat": 4,
 "nbformat_minor": 5
}
